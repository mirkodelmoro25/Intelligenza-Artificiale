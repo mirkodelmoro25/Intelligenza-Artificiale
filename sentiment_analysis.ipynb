{
 "cells": [
  {
   "cell_type": "code",
   "execution_count": 18,
   "metadata": {
    "scrolled": true
   },
   "outputs": [
    {
     "name": "stdout",
     "output_type": "stream",
     "text": [
      "Positive rating:  66.25 %\n",
      "Negative rating:  24.85 %\n",
      "Neutral rating:  8.9 %\n",
      "\n",
      "\n",
      "Multinomial Naive Bayes\n",
      "Accuracy: 0.86\n",
      "Cohen's Kappa: 0.67\n"
     ]
    },
    {
     "data": {
      "text/html": [
       "<div>\n",
       "<style scoped>\n",
       "    .dataframe tbody tr th:only-of-type {\n",
       "        vertical-align: middle;\n",
       "    }\n",
       "\n",
       "    .dataframe tbody tr th {\n",
       "        vertical-align: top;\n",
       "    }\n",
       "\n",
       "    .dataframe thead th {\n",
       "        text-align: right;\n",
       "    }\n",
       "</style>\n",
       "<table border=\"1\" class=\"dataframe\">\n",
       "  <thead>\n",
       "    <tr style=\"text-align: right;\">\n",
       "      <th></th>\n",
       "      <th>Aspect</th>\n",
       "      <th>Source</th>\n",
       "      <th>Accuracy</th>\n",
       "      <th>Cohen's Kappa</th>\n",
       "    </tr>\n",
       "  </thead>\n",
       "  <tbody>\n",
       "    <tr>\n",
       "      <th></th>\n",
       "      <td>Overall Rating</td>\n",
       "      <td>Drugs.com</td>\n",
       "      <td>0.86</td>\n",
       "      <td>0.67</td>\n",
       "    </tr>\n",
       "  </tbody>\n",
       "</table>\n",
       "</div>"
      ],
      "text/plain": [
       "          Aspect     Source  Accuracy  Cohen's Kappa\n",
       "  Overall Rating  Drugs.com      0.86           0.67"
      ]
     },
     "execution_count": 18,
     "metadata": {},
     "output_type": "execute_result"
    }
   ],
   "source": [
    "import pandas as pd\n",
    "import numpy as np\n",
    "import re\n",
    "import string\n",
    "from pandas import DataFrame\n",
    "from sklearn.feature_extraction.text import CountVectorizer\n",
    "from sklearn.naive_bayes import MultinomialNB\n",
    "from sklearn.metrics import accuracy_score\n",
    "from sklearn import metrics\n",
    "from sklearn.metrics import cohen_kappa_score\n",
    "\n",
    "\n",
    "#load the datasets\n",
    "train = pd.read_table('/home/mirko25/Scaricati/drugsCom_raw/drugsComTrain_raw.tsv')\n",
    "test = pd.read_table('/home/mirko25/Scaricati/drugsCom_raw/drugsComTest_raw.tsv')\n",
    "\n",
    "\n",
    "reviews = train ['review'] \n",
    "rating = train ['rating']\n",
    "\n",
    "x_test = test['review']\n",
    "test_reviews = test ['rating']\n",
    "\n",
    "#train rating transformation\n",
    "label = []\n",
    "negative = 0\n",
    "positive = 0\n",
    "neutral = 0\n",
    "for line in rating:\n",
    "    if line <= 4 :\n",
    "        label.append ('-1')\n",
    "        negative +=1\n",
    "    elif line >=7 :\n",
    "        label.append('1')\n",
    "        positive +=1\n",
    "    else:\n",
    "        label.append('0')\n",
    "        neutral +=1\n",
    "train['label'] = label\n",
    "\n",
    "y_train = train ['label']\n",
    "\n",
    "\n",
    "all = positive + negative + neutral\n",
    "print ( 'Positive rating: ', round((positive/all)*100, 2), '%')\n",
    "print ( 'Negative rating: ', round((negative/all)*100, 2), '%')\n",
    "print ( 'Neutral rating: ', round((neutral/all)*100, 2), '%')\n",
    "\n",
    "\n",
    "#test rating transformation\n",
    "test_label = []\n",
    "\n",
    "for line in test_reviews:\n",
    "    if line <= 4 :\n",
    "        test_label.append ('-1')\n",
    "    elif line >=7 :\n",
    "        test_label.append('1')\n",
    "    else:\n",
    "        test_label.append('0')\n",
    "test['label'] = test_label\n",
    "\n",
    "y_test = test ['label']\n",
    "\n",
    "\n",
    "#pre-proccessing text\n",
    "\n",
    "#remove punctuation\n",
    "def remove_punctuation(text):\n",
    "    no_punct = \"\".join([c for c in text if c not in string.punctuation])\n",
    "    return no_punct\n",
    "\n",
    "reviews = reviews.apply(lambda x: remove_punctuation(x))\n",
    "x_test = x_test.apply (lambda x: remove_punctuation(x))\n",
    "\n",
    "#lowercase\n",
    "reviews = reviews.apply(lambda x: x.lower())\n",
    "x_test = x_test.apply(lambda x: x.lower())\n",
    "\n",
    "\n",
    "#remove numbers\n",
    "reviews = reviews.apply(lambda x: re.sub(\"\\d+\", \" \", x))\n",
    "x_test = x_test.apply(lambda x: re.sub(\"\\d+\", \" \", x))\n",
    "\n",
    "\n",
    "#remove special characters\n",
    "reviews = reviews.apply(lambda x: re.sub('[\\W\\_]', \" \", x))\n",
    "x_test = x_test.apply(lambda x: re.sub('[\\W\\_]', \" \", x))\n",
    "\n",
    "#transformation \n",
    "vect = CountVectorizer(analyzer = 'word', ngram_range = (1,3), max_df = 0.9)\n",
    "mul_reviews = vect.fit_transform(reviews)\n",
    "mul_x_test = vect.transform(x_test)\n",
    "\n",
    "#create and fit the model\n",
    "model = MultinomialNB()\n",
    "model.fit(mul_reviews, y_train)\n",
    "\n",
    "prediction_test = model.predict(mul_x_test)\n",
    "\n",
    "#calculate accuracy and Cohen's Kappa\n",
    "acc_test = accuracy_score (y_test, prediction_test)\n",
    "k_test = cohen_kappa_score (y_test, prediction_test)\n",
    "\n",
    "acc = round(acc_test, 2)\n",
    "k = round(k_test, 2)\n",
    "print(\"\\n\")\n",
    "print(\"Multinomial Naive Bayes\")\n",
    "print (\"Accuracy: {}\" .format(acc))\n",
    "print (\"Cohen's Kappa: {}\"  .format(k))\n",
    "\n",
    "#In-domain sentiment analysis\n",
    "df = DataFrame ({'Aspect' : [\"Overall Rating\"],\n",
    "                'Source' : [\"Drugs.com\"],\n",
    "                'Accuracy': [acc],\n",
    "                \"Cohen's Kappa\" : [k]})\n",
    "df.index = [\"\"]\n",
    "df"
   ]
  },
  {
   "cell_type": "code",
   "execution_count": 7,
   "metadata": {},
   "outputs": [
    {
     "name": "stdout",
     "output_type": "stream",
     "text": [
      "\n",
      " [[ 9990     0  3507]\n",
      " [  734  1218  2877]\n",
      " [  296     4 35140]]\n"
     ]
    }
   ],
   "source": [
    "from sklearn import metrics\n",
    "\n",
    "#show confusion matrix for MultinomialNB\n",
    "confusion_matrix = metrics.confusion_matrix(y_test, prediction_test)\n",
    "print ('\\n {}' .format (confusion_matrix) )"
   ]
  },
  {
   "cell_type": "code",
   "execution_count": 17,
   "metadata": {},
   "outputs": [
    {
     "name": "stdout",
     "output_type": "stream",
     "text": [
      "Bernoulli Naive Bayes\n",
      "Accuracy: 0.77\n",
      "Cohen's Kappa: 0.42\n"
     ]
    },
    {
     "data": {
      "text/html": [
       "<div>\n",
       "<style scoped>\n",
       "    .dataframe tbody tr th:only-of-type {\n",
       "        vertical-align: middle;\n",
       "    }\n",
       "\n",
       "    .dataframe tbody tr th {\n",
       "        vertical-align: top;\n",
       "    }\n",
       "\n",
       "    .dataframe thead th {\n",
       "        text-align: right;\n",
       "    }\n",
       "</style>\n",
       "<table border=\"1\" class=\"dataframe\">\n",
       "  <thead>\n",
       "    <tr style=\"text-align: right;\">\n",
       "      <th></th>\n",
       "      <th>Aspect</th>\n",
       "      <th>Source</th>\n",
       "      <th>Accuracy</th>\n",
       "      <th>Cohen's Kappa</th>\n",
       "    </tr>\n",
       "  </thead>\n",
       "  <tbody>\n",
       "    <tr>\n",
       "      <th></th>\n",
       "      <td>Overall Rating</td>\n",
       "      <td>Drugs.com</td>\n",
       "      <td>0.77</td>\n",
       "      <td>0.42</td>\n",
       "    </tr>\n",
       "  </tbody>\n",
       "</table>\n",
       "</div>"
      ],
      "text/plain": [
       "          Aspect     Source  Accuracy  Cohen's Kappa\n",
       "  Overall Rating  Drugs.com      0.77           0.42"
      ]
     },
     "execution_count": 17,
     "metadata": {},
     "output_type": "execute_result"
    }
   ],
   "source": [
    "from sklearn.naive_bayes import BernoulliNB\n",
    "\n",
    "#try with Bernoulli NB model\n",
    "\n",
    "vectB = CountVectorizer(analyzer = 'word', ngram_range = (1,3), max_df = 0.9, binary = True)\n",
    "ber_reviews = vectB.fit_transform(reviews)\n",
    "ber_x_test = vectB.transform(x_test)\n",
    "\n",
    "modelB = BernoulliNB()\n",
    "modelB.fit(ber_reviews, y_train)\n",
    "\n",
    "p_testB = modelB.predict(ber_x_test)\n",
    "\n",
    "accuracy_B = accuracy_score (y_test, p_testB)\n",
    "kappa_B = cohen_kappa_score (y_test, p_testB)\n",
    "\n",
    "accB = round(accuracy_B, 2)\n",
    "kB = round(kappa_B, 2)\n",
    "print(\"Bernoulli Naive Bayes\")\n",
    "print (\"Accuracy: {}\" .format(accB))\n",
    "print (\"Cohen's Kappa: {}\"  .format(kB))\n",
    "\n",
    "#In-domain sentiment analysis\n",
    "df = DataFrame ({'Aspect' : [\"Overall Rating\"],\n",
    "                'Source' : [\"Drugs.com\"],\n",
    "                'Accuracy': [accB],\n",
    "                \"Cohen's Kappa\" : [kB]})\n",
    "df.index = [\"\"]\n",
    "df"
   ]
  },
  {
   "cell_type": "code",
   "execution_count": 19,
   "metadata": {},
   "outputs": [
    {
     "name": "stdout",
     "output_type": "stream",
     "text": [
      "\n",
      " [[ 5967     0  7530]\n",
      " [  666   103  4060]\n",
      " [   58     4 35378]]\n"
     ]
    }
   ],
   "source": [
    "\n",
    "#show confusion matrix for BernoulliNB\n",
    "confusion_matrix = metrics.confusion_matrix(y_test, p_testB)\n",
    "print ('\\n {}' .format (confusion_matrix) )"
   ]
  },
  {
   "cell_type": "code",
   "execution_count": null,
   "metadata": {},
   "outputs": [],
   "source": []
  }
 ],
 "metadata": {
  "kernelspec": {
   "display_name": "Python 3",
   "language": "python",
   "name": "python3"
  },
  "language_info": {
   "codemirror_mode": {
    "name": "ipython",
    "version": 3
   },
   "file_extension": ".py",
   "mimetype": "text/x-python",
   "name": "python",
   "nbconvert_exporter": "python",
   "pygments_lexer": "ipython3",
   "version": "3.7.6"
  }
 },
 "nbformat": 4,
 "nbformat_minor": 4
}
